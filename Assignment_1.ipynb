{
 "cells": [
  {
   "cell_type": "code",
   "execution_count": null,
   "id": "5b8a7427",
   "metadata": {},
   "outputs": [],
   "source": [
    "#Q1"
   ]
  },
  {
   "cell_type": "code",
   "execution_count": null,
   "id": "ba02b071",
   "metadata": {},
   "outputs": [],
   "source": [
    "#1 Artificial Intellegence- It, basically the smart applications that can perform their own task without \n",
    "# Human intervention\n",
    "\n",
    "# 2 Machine Learning - It involves learning, visualasing, and developing the prediction model \n",
    "# using various kind of tools such as Stats tools\n",
    "\n",
    "\n",
    "# 3 Deep Learning - Mimicing the human brain with the help of Multilayered Neural Networks\n",
    " #  It' uses are in object Detection, Image Recogination, ChatGPT and Recommendaton system.\n",
    "    \n",
    "    \n"
   ]
  },
  {
   "cell_type": "code",
   "execution_count": null,
   "id": "bf735fa8",
   "metadata": {},
   "outputs": [],
   "source": [
    "#Q2"
   ]
  },
  {
   "cell_type": "code",
   "execution_count": null,
   "id": "1542488b",
   "metadata": {},
   "outputs": [],
   "source": [
    "## Supervised Learning - It basically involves classification and regression. In this there are fixed input parameters and output parameters\n",
    "##ex - Wether prediction, anomoly detecion in dataset.\n",
    "\n",
    "\n",
    "## "
   ]
  },
  {
   "cell_type": "code",
   "execution_count": null,
   "id": "90d14a3f",
   "metadata": {},
   "outputs": [],
   "source": [
    "#Q3"
   ]
  },
  {
   "cell_type": "code",
   "execution_count": null,
   "id": "1a65733d",
   "metadata": {},
   "outputs": [],
   "source": [
    "# ## Unsupervised Learning -  In this data set is classified into clusters or similar groups.\n",
    "\n",
    "# ex-  In sales of a particular showroom, Identifying the particular set of audeince which involves clustering and giving \n",
    "# them Discounts"
   ]
  },
  {
   "cell_type": "code",
   "execution_count": null,
   "id": "ee81fee1",
   "metadata": {},
   "outputs": [],
   "source": [
    "#Q4"
   ]
  },
  {
   "cell_type": "code",
   "execution_count": null,
   "id": "8fb22498",
   "metadata": {},
   "outputs": [],
   "source": [
    "# Artificial Intelligence (AI) is the broadest concept. It encompasses any method that makes computers seem intelligent. This can involve mimicking human behavior, learning from data, or solving problems creatively.  Think of AI as the ultimate goal: creating intelligent machines.\n",
    "\n",
    "# Machine Learning (ML) is a subfield of AI. It focuses on algorithms that can learn from data without being explicitly programmed.  Machine learning algorithms improve their performance on a specific task the more data they are exposed to.\n",
    "\n",
    "# Deep Learning (DL) is a subfield of machine learning inspired by the structure and function of the human brain. It uses artificial neural networks, which are networks of interconnected nodes that can learn complex patterns in data.  Deep learning is particularly good at handling large amounts of data and complex tasks like image recognition or speech recognition.\n",
    "\n",
    "# Data Science (DS) is a field that uses various techniques, including machine learning and deep learning, to extract insights from data. Data scientists are the wranglers of data; they collect, clean, analyze, and interpret data to solve problems and make informed decisions."
   ]
  },
  {
   "cell_type": "code",
   "execution_count": null,
   "id": "594d2d57",
   "metadata": {},
   "outputs": [],
   "source": [
    "#Q5"
   ]
  },
  {
   "cell_type": "code",
   "execution_count": null,
   "id": "eac255c5",
   "metadata": {},
   "outputs": [],
   "source": [
    "# The main differences between supervised, unsupervised, and semi-supervised learning lie in the type of data they use and their learning goals:\n",
    "\n",
    "# Supervised Learning:\n",
    "\n",
    "# Imagine a teacher showing you labeled examples (like pictures of cats and dogs).\n",
    "# In supervised learning, the data comes with labels or pre-defined outputs.\n",
    "# The algorithm learns the relationship between the input data and the desired output, allowing it to make predictions for new, unseen data.\n",
    "# Common tasks include classification (spam/not spam email) and regression (predicting house prices).\n",
    "# Unsupervised Learning:\n",
    "\n",
    "# Think of exploring a jungle on your own.\n",
    "# Unsupervised learning deals with unlabeled data, where data points have no predefined labels or categories.\n",
    "# The goal is to uncover hidden patterns or structures within the data.\n",
    "# Common tasks include clustering (grouping similar customers) and dimensionality reduction (compressing data for better analysis).\n",
    "# Semi-supervised Learning:\n",
    "\n",
    "# Imagine exploring the jungle with some marked trails.\n",
    "# Semi-supervised learning combines labeled and unlabeled data. It leverages the power of labeled data to guide the learning process on the much larger amount of unlabeled data.\n",
    "# This is useful when labeling data is expensive or time-consuming.\n",
    "# Common techniques involve using labeled data to label unlabeled data (pseudo-labeling) or leveraging the structure of the unlabeled data itself."
   ]
  },
  {
   "cell_type": "code",
   "execution_count": null,
   "id": "155433c8",
   "metadata": {},
   "outputs": [],
   "source": [
    "#Q6"
   ]
  },
  {
   "cell_type": "code",
   "execution_count": null,
   "id": "92cc63c6",
   "metadata": {},
   "outputs": [],
   "source": [
    "# Train, test, and validation split is a fundamental concept in machine learning, especially during model development. It involves dividing your dataset into three subsets:\n",
    "\n",
    "# Training Set: This is the largest portion of your data. The machine learning model is trained on this data. Here, the model learns patterns and relationships between the input features and the desired output. Imagine it like showing a student a bunch of practice problems.\n",
    "\n",
    "# Validation Set: This is a smaller subset used to fine-tune the model during the training process.  Think of it like giving the student practice tests to identify weaknesses before the final exam. Here's why it's important:\n",
    "\n",
    "# Prevents Overfitting: Overfitting happens when a model performs well on the training data but fails to generalize to new, unseen data. The validation set helps you identify this by letting you adjust the model's hyperparameters (settings that control its learning behavior) to achieve better performance on unseen data.\n",
    "# Test Set: This is another smaller subset of data that the model has never seen before. The final evaluation of the model's performance is done on this set. This provides an unbiased estimate of how well the model will perform in real-world scenarios. It's like the final exam that tests the student's true understanding."
   ]
  },
  {
   "cell_type": "code",
   "execution_count": null,
   "id": "3c03a83e",
   "metadata": {},
   "outputs": [],
   "source": [
    "#Q7"
   ]
  },
  {
   "cell_type": "code",
   "execution_count": null,
   "id": "7f116a6b",
   "metadata": {},
   "outputs": [],
   "source": [
    "# Unsupervised learning is a powerful tool for anomaly detection because it allows you to identify patterns in data without needing pre-labeled examples of anomalies. This is particularly useful in scenarios where:\n",
    "\n",
    "# Anomalies are rare:  If anomalies are infrequent events in your data, labeling them can be expensive or time-consuming. Unsupervised learning can identify outliers based on how much they deviate from the overall patterns in the data.\n",
    "\n",
    "# Anomalies are unknown:  Sometimes, you might not even know what an anomaly looks like beforehand. Unsupervised learning can uncover hidden patterns that deviate from the expected behavior, potentially revealing previously unknown anomalies.\n",
    "\n",
    "# Here's how unsupervised learning can be used in anomaly detection:\n",
    "\n",
    "# Clustering:  This technique groups data points into clusters based on their similarities. Points that fall outside of these clusters can be flagged as potential anomalies. Imagine sorting a collection of toys by type. Anomalies would be the objects that don't fit into any category (like a spoon among cars).\n",
    "\n",
    "# Statistical Techniques:  Unsupervised learning can involve analyzing the statistical properties of the data, such as mean, standard deviation, or probability distributions. Data points that fall significantly outside the expected statistical range can be considered anomalies.  Think of monitoring temperature readings in a factory. Values that deviate sharply from the average temperature range could indicate a malfunctioning machine.\n",
    "\n",
    "# Dimensionality Reduction:  Techniques like Principal Component Analysis (PCA) can reduce the complexity of high-dimensional data.  Anomalies might show up as outliers in the lower-dimensional representation of the data. Imagine a complex dataset visualized as a cloud in a high-dimensional space.  Dimensionality reduction projects this cloud onto a 2D plane, where anomalies might appear as distant points from the main cluster.\n",
    "\n",
    "# Here are some advantages of using unsupervised learning for anomaly detection:\n",
    "\n",
    "# No labeled data required: This saves time and resources compared to supervised learning, which requires labeled anomaly examples.\n",
    "# Adapts to changing patterns: Unsupervised models can identify new types of anomalies as they emerge in the data."
   ]
  },
  {
   "cell_type": "code",
   "execution_count": null,
   "id": "37da3a1a",
   "metadata": {},
   "outputs": [],
   "source": [
    "#Q8"
   ]
  },
  {
   "cell_type": "code",
   "execution_count": null,
   "id": "80d1b1d2",
   "metadata": {},
   "outputs": [],
   "source": [
    "# Supervised Learning Algorithms:\n",
    "# Here are some commonly used supervised learning algorithms categorized by their task:\n",
    "\n",
    "# Classification:\n",
    "\n",
    "# Logistic Regression: Predicts the probability of an event belonging to a specific class (e.g., spam email or not).\n",
    "# Support Vector Machine (SVM): Creates a hyperplane to separate data points belonging to different classes.\n",
    "# Decision Tree: Learns a tree-like structure for classifying data based on a series of questions about the features.\n",
    "# Random Forest: Combines multiple decision trees for improved accuracy and to prevent overfitting.\n",
    "# Naive Bayes: Classifies data based on the assumption that features are independent of each other given the class.\n",
    "# Regression:\n",
    "\n",
    "# Linear Regression: Models the relationship between features and a continuous output value using a straight line.\n",
    "# Polynomial Regression: Similar to linear regression but uses higher-order polynomial functions for more complex relationships.\n",
    "# Support Vector Regression (SVR): Uses support vectors to create a regression line or function.\n",
    "# Decision Tree Regression: Predicts a continuous output value by following a tree-like structure.\n",
    "# Random Forest Regression: Combines multiple decision trees for improved accuracy in regression tasks.\n",
    "# Unsupervised Learning Algorithms:\n",
    "# Here are some commonly used unsupervised learning algorithms:\n",
    "\n",
    "# Clustering:\n",
    "\n",
    "# K-Means Clustering: Groups data points into a predefined number of clusters based on their similarities.\n",
    "# Hierarchical Clustering: Creates a hierarchy of clusters by iteratively grouping data points based on similarities.\n",
    "# Density-Based Spatial Clustering of Applications with Noise (DBSCAN): Groups data points based on density and identifies outliers.\n",
    "# Dimensionality Reduction:\n",
    "\n",
    "# Principal Component Analysis (PCA): Reduces the number of features in a dataset while preserving most of the information.\n",
    "# Linear Discriminant Analysis (LDA): Similar to PCA but focuses on maximizing the separation between classes in the reduced dimension.\n",
    "# Association Rule Learning:\n",
    "\n",
    "# Apriori algorithm: Discovers frequent patterns and relationships between items in a transaction dataset. This is commonly used in recommender systems.\n",
    "# These are just a few examples, and the choice of algorithm depends on the specific task and data characteristics."
   ]
  },
  {
   "cell_type": "code",
   "execution_count": null,
   "id": "00043e64",
   "metadata": {},
   "outputs": [],
   "source": []
  },
  {
   "cell_type": "code",
   "execution_count": null,
   "id": "d16957c7",
   "metadata": {},
   "outputs": [],
   "source": []
  },
  {
   "cell_type": "code",
   "execution_count": null,
   "id": "32490932",
   "metadata": {},
   "outputs": [],
   "source": []
  }
 ],
 "metadata": {
  "kernelspec": {
   "display_name": "Python 3",
   "language": "python",
   "name": "python3"
  },
  "language_info": {
   "codemirror_mode": {
    "name": "ipython",
    "version": 3
   },
   "file_extension": ".py",
   "mimetype": "text/x-python",
   "name": "python",
   "nbconvert_exporter": "python",
   "pygments_lexer": "ipython3",
   "version": "3.11.3"
  }
 },
 "nbformat": 4,
 "nbformat_minor": 5
}
